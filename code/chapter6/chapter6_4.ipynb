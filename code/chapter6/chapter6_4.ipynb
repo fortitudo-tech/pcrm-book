{
 "cells": [
  {
   "cell_type": "markdown",
   "metadata": {},
   "source": [
    "# Code for Section 6.4 Parameter uncertainty and Exposure Stacking\n",
    "The example below replicated the Exposure Stacking analysis from https://ssrn.com/abstract=4709317 for a different seed and includes the analysis metioned in Section 2.1 from the article to illustrate that stacking based on the portfolio mean or portfolio volatility causes a significant risk and return drift."
   ]
  },
  {
   "cell_type": "code",
   "execution_count": 1,
   "metadata": {},
   "outputs": [],
   "source": [
    "import numpy as np\n",
    "import pandas as pd\n",
    "import fortitudo.tech as ft\n",
    "from cvxopt import matrix, solvers\n",
    "from copy import copy"
   ]
  },
  {
   "cell_type": "code",
   "execution_count": 2,
   "metadata": {},
   "outputs": [],
   "source": [
    "# Load instrument info\n",
    "instrument_names, means, covariance_matrix = ft.load_parameters()"
   ]
  },
  {
   "cell_type": "code",
   "execution_count": 3,
   "metadata": {},
   "outputs": [],
   "source": [
    "# Specify base long-only constraints\n",
    "I = len(instrument_names)\n",
    "G = -np.eye(I)\n",
    "h = np.zeros(I)\n",
    "mv_opt = ft.MeanVariance(means, covariance_matrix, G, h)\n"
   ]
  },
  {
   "cell_type": "code",
   "execution_count": 4,
   "metadata": {},
   "outputs": [],
   "source": [
    "# Parameter uncertainty specification\n",
    "B = 1000  # Number of efficient frontiers\n",
    "P = 9  # Number of portfolios used to span the efficient frontiers\n",
    "N = 100  # Sample size for parameter estimation\n",
    "np.random.seed(0)  # To avoid numerical instability\n",
    "return_sim = np.random.multivariate_normal(means, covariance_matrix, (N, B))"
   ]
  },
  {
   "cell_type": "code",
   "execution_count": 5,
   "metadata": {},
   "outputs": [],
   "source": [
    "# Base frontier with no parameter uncertainty\n",
    "frontier = mv_opt.efficient_frontier(P)\n",
    "results = np.full((P, 2), np.nan)\n",
    "results[:, 0] = means @ frontier\n",
    "for p in range(P):\n",
    "    results[p, 1] = frontier[:, p] @ covariance_matrix @ frontier[:, p]"
   ]
  },
  {
   "cell_type": "code",
   "execution_count": 6,
   "metadata": {},
   "outputs": [],
   "source": [
    "# Mean uncertainty\n",
    "frontier_mean = np.full((I, P, B), np.nan)\n",
    "mean_results = np.full((P, 2, B), np.nan)\n",
    "for b in range(B):\n",
    "    means_run = np.mean(return_sim[:, b, :], axis=0)\n",
    "    mv_opt._expected_return_row = -matrix(means_run).T\n",
    "    frontier_mean[:, :, b] = mv_opt.efficient_frontier(P)\n",
    "    mean_results[:, 0, b] = means @ frontier_mean[:, :, b]\n",
    "    for p in range(P):\n",
    "        mean_results[p, 1, b] = frontier_mean[:, p, b] @ covariance_matrix @ frontier_mean[:, p, b]\n",
    "mv_opt._expected_return_row = -matrix(means).T  # Reset means"
   ]
  },
  {
   "cell_type": "code",
   "execution_count": 7,
   "metadata": {},
   "outputs": [],
   "source": [
    "def exposure_stacking(L, sample_portfolios, sample_weights: bool = False):\n",
    "    \"\"\"Computes the L-fold Exposure Stacking portfolio from https://ssrn.com/abstract=4709317.\n",
    "\n",
    "    Args:\n",
    "        L: Number of partition sets.\n",
    "        sample_portfolios: Sample portfolio exposures with shape (I, B).\n",
    "\n",
    "    Returns:\n",
    "        Exposure Stacking portfolio.\n",
    "    \"\"\"\n",
    "    B = sample_portfolios.shape[1]\n",
    "    partition_size = B // L  # size of validation set for all except possibly the last\n",
    "    indices = np.arange(0, B)\n",
    "    partitions = [indices[l * partition_size:(l + 1) * partition_size] for l in range(L - 1)]\n",
    "    partitions.append(indices[(L - 1) * partition_size:])\n",
    "\n",
    "    M = sample_portfolios.T\n",
    "    P = np.zeros((B, B))\n",
    "    q = np.zeros((B, 1))\n",
    "    for K_l in partitions:\n",
    "        M_l = copy(M)\n",
    "        M_l[K_l, :] = 0\n",
    "        P = P + M_l @ M_l.T\n",
    "        sum_exposures_K_l = np.sum(sample_portfolios[:, K_l], axis=1)\n",
    "        q = q + len(K_l)**-1 * (M_l @ sum_exposures_K_l)[:, np.newaxis]\n",
    "\n",
    "    P = matrix(2 * P)\n",
    "    q = matrix(-2 * q)\n",
    "    A = matrix(np.ones((1, B)))\n",
    "    b = matrix(np.array([[1.]]))\n",
    "    G = matrix(-np.identity(B))\n",
    "    h = matrix(np.zeros((B, 1)))\n",
    "    w = solvers.qp(P, q, G, h, A, b)['x']\n",
    "    if sample_weights:\n",
    "        return np.squeeze(M.T @ w), w\n",
    "    else:\n",
    "        return np.squeeze(M.T @ w)"
   ]
  },
  {
   "cell_type": "code",
   "execution_count": 8,
   "metadata": {},
   "outputs": [],
   "source": [
    "# Compute portfolios for the middle index using the different approaches\n",
    "pf_index = 4\n",
    "pf_frontier = frontier[:, pf_index]\n",
    "pf_re = np.mean(frontier_mean[:, pf_index, :], axis=1)\n",
    "pf_es2 = ft.exposure_stacking(2, frontier_mean[:, pf_index, :])\n",
    "_, w_mean = exposure_stacking(2, mean_results[pf_index, :, :][0, np.newaxis], True)\n",
    "pf_es_mean = frontier_mean[:, pf_index, :] @ w_mean\n",
    "_, w_vol = exposure_stacking(2, np.sqrt(mean_results[pf_index, :, :][1, np.newaxis]), True)\n",
    "pf_es_vol = frontier_mean[:, pf_index, :] @ w_vol"
   ]
  },
  {
   "cell_type": "code",
   "execution_count": 9,
   "metadata": {},
   "outputs": [],
   "source": [
    "# Results Table 6.2\n",
    "pf_results = np.vstack((pf_re, pf_es2, pf_es_mean[:, 0], pf_es_vol[:, 0], pf_frontier)).T\n",
    "pf_means = means @ pf_results\n",
    "pf_vols = np.full(pf_results.shape[1], np.nan)\n",
    "for i in range(len(pf_vols)):\n",
    "    pf_vols[i] = np.sqrt(pf_results[:, i].T @ covariance_matrix @ pf_results[:, i])\n",
    "pf_results2 = np.vstack((pf_results, pf_means[np.newaxis, :], pf_vols[np.newaxis, :]))\n",
    "pf_df = pd.DataFrame(\n",
    "    np.round(100 * pf_results2, 2), index=instrument_names + ['Mean'] + ['Vol'], \n",
    "    columns=['Resampled', '2-Fold Exposure Stacking', 'Mean stacking', 'Vol stacking', 'Frontier'])"
   ]
  }
 ],
 "metadata": {
  "kernelspec": {
   "display_name": "Python 3.9.12 ('fortitudo.tech')",
   "language": "python",
   "name": "python3"
  },
  "language_info": {
   "codemirror_mode": {
    "name": "ipython",
    "version": 3
   },
   "file_extension": ".py",
   "mimetype": "text/x-python",
   "name": "python",
   "nbconvert_exporter": "python",
   "pygments_lexer": "ipython3",
   "version": "3.12.3"
  },
  "orig_nbformat": 4,
  "vscode": {
   "interpreter": {
    "hash": "9172374e710c7274e5b931ab9e79b447ac202c78814c7af0597212ccabe6bde7"
   }
  }
 },
 "nbformat": 4,
 "nbformat_minor": 2
}
