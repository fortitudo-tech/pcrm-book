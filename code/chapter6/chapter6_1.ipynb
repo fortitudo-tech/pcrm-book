{
 "cells": [
  {
   "cell_type": "markdown",
   "metadata": {},
   "source": [
    "# Code for Section 6.1 Exposures and relative market values\n",
    "This notebook presents the derivatives price calculations, giving you a clear understanding of the relationship between relative market values and the notional normalization."
   ]
  },
  {
   "cell_type": "code",
   "execution_count": 10,
   "metadata": {},
   "outputs": [],
   "source": [
    "import numpy as np\n",
    "import fortitudo.tech as ft"
   ]
  },
  {
   "cell_type": "code",
   "execution_count": 7,
   "metadata": {},
   "outputs": [],
   "source": [
    "# Option parameters\n",
    "T = 1  # 1y expiry\n",
    "r = 0  # interest rate for time T\n",
    "q = 0  # dividend yield\n",
    "S = 100  # spot price / notional\n",
    "sigma = 0.15  # implied volatility for horizon T"
   ]
  },
  {
   "cell_type": "code",
   "execution_count": 6,
   "metadata": {},
   "outputs": [
    {
     "name": "stdout",
     "output_type": "stream",
     "text": [
      "100.0\n"
     ]
    }
   ],
   "source": [
    "# Compute forward price\n",
    "F = ft.forward(S, r, q, T)\n",
    "print(F)"
   ]
  },
  {
   "cell_type": "code",
   "execution_count": 8,
   "metadata": {},
   "outputs": [
    {
     "name": "stdout",
     "output_type": "stream",
     "text": [
      "5.978528810578943\n",
      "5.978528810578943\n"
     ]
    }
   ],
   "source": [
    "# Compute option prices\n",
    "p = ft.put_option(F, F, sigma, r, T)\n",
    "c = ft.call_option(F, F, sigma, r, T)\n",
    "print(p)\n",
    "print(c)"
   ]
  },
  {
   "cell_type": "code",
   "execution_count": 12,
   "metadata": {},
   "outputs": [
    {
     "name": "stdout",
     "output_type": "stream",
     "text": [
      "0.0598\n"
     ]
    }
   ],
   "source": [
    "# Relative market value\n",
    "print(np.round((p / S), 4))"
   ]
  },
  {
   "cell_type": "code",
   "execution_count": 16,
   "metadata": {},
   "outputs": [
    {
     "name": "stdout",
     "output_type": "stream",
     "text": [
      "0.0598\n",
      "0.05978528810578948\n"
     ]
    }
   ],
   "source": [
    "# Compute relative market values directly by specifying forwards and strikes relative to spot\n",
    "p1 = ft.put_option(F / S, F / S, sigma, r, T)\n",
    "c1 = ft.call_option(F / S, F / S, sigma, r, T)\n",
    "print(np.round(p1, 4))\n",
    "print(c1)"
   ]
  },
  {
   "cell_type": "code",
   "execution_count": 15,
   "metadata": {},
   "outputs": [
    {
     "name": "stdout",
     "output_type": "stream",
     "text": [
      "-4.85722573273506e-17\n"
     ]
    }
   ],
   "source": [
    "# Compute the differencen (numerically 0)\n",
    "print((p / S) - p1)"
   ]
  }
 ],
 "metadata": {
  "kernelspec": {
   "display_name": "Python 3 (ipykernel)",
   "language": "python",
   "name": "python3"
  },
  "language_info": {
   "codemirror_mode": {
    "name": "ipython",
    "version": 3
   },
   "file_extension": ".py",
   "mimetype": "text/x-python",
   "name": "python",
   "nbconvert_exporter": "python",
   "pygments_lexer": "ipython3",
   "version": "3.12.3"
  },
  "vscode": {
   "interpreter": {
    "hash": "9172374e710c7274e5b931ab9e79b447ac202c78814c7af0597212ccabe6bde7"
   }
  }
 },
 "nbformat": 4,
 "nbformat_minor": 4
}
