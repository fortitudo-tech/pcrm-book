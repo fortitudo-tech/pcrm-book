{
 "cells": [
  {
   "cell_type": "markdown",
   "metadata": {},
   "source": [
    "# Code for Section 6.5 Portfolio Rebalancing\n",
    "This example shows you how to perform the Resampled Portfolio Rebalancing test based on the Euclidean norm and the combined marginal return and risk for mean-variance optimization."
   ]
  },
  {
   "cell_type": "code",
   "execution_count": 1,
   "metadata": {},
   "outputs": [],
   "source": [
    "import numpy as np\n",
    "import pandas as pd\n",
    "import seaborn as sns\n",
    "import fortitudo.tech as ft\n",
    "import matplotlib.pyplot as plt\n",
    "from scipy.linalg import cholesky\n",
    "from cvxopt import matrix\n",
    "from cvxopt.solvers import socp\n",
    "from copy import copy"
   ]
  },
  {
   "cell_type": "code",
   "execution_count": 2,
   "metadata": {},
   "outputs": [],
   "source": [
    "# Load instrument info\n",
    "instrument_names, means, covariance_matrix = ft.load_parameters()"
   ]
  },
  {
   "cell_type": "code",
   "execution_count": 3,
   "metadata": {},
   "outputs": [],
   "source": [
    "I = len(instrument_names)\n",
    "e_bm = np.ones((I, 1)) / I\n",
    "e_0 = np.array([0, 0, 0, 0.1839, 0, 0, 0.0661, 0.25, 0.25, 0.25])  # Portfolio from Section 6.3.1"
   ]
  },
  {
   "cell_type": "code",
   "execution_count": 4,
   "metadata": {},
   "outputs": [],
   "source": [
    "G = np.vstack((np.eye(I), -np.eye(I)))\n",
    "G = np.hstack((G, np.zeros((G.shape[0], I))))  # Due to the benchmark relation\n",
    "h = np.hstack((0.25 * np.ones(I), np.zeros(I)))\n",
    "benchmark_relation = np.hstack((np.eye(I), -np.eye(I)))\n",
    "A = matrix(np.vstack((np.hstack((np.ones(I), np.zeros(I))), benchmark_relation)))\n",
    "b_ = matrix(np.vstack(([[1.]], e_bm)))"
   ]
  },
  {
   "cell_type": "code",
   "execution_count": 5,
   "metadata": {},
   "outputs": [],
   "source": [
    "# Second order constraints\n",
    "risk_target = 0.07\n",
    "te_target = 0.02\n",
    "scalar = 100\n",
    "L = -cholesky(scalar**2 * covariance_matrix)\n",
    "Gq_base = matrix(np.zeros((I + 1, 2 * I)))\n",
    "Gq2 = [copy(Gq_base), copy(Gq_base)]\n",
    "Gq2[0][1:, 0:I] = L\n",
    "Gq2[1][1:, I:] = L\n",
    "hq2 = [matrix(np.zeros((I + 1))), matrix(np.zeros((I + 1)))]\n",
    "hq2[0][0] = risk_target * scalar\n",
    "hq2[1][0] = te_target * scalar"
   ]
  },
  {
   "cell_type": "code",
   "execution_count": 6,
   "metadata": {},
   "outputs": [],
   "source": [
    "# Extend the expected return vector and optimize\n",
    "means2 = np.hstack((means, np.zeros(I)))\n",
    "e_target = np.array(socp(\n",
    "    c=matrix(-means2 * scalar), Gl=matrix(G), hl=matrix(h), Gq=Gq2, hq=hq2, A=A, b=b_)['x'][0:I])"
   ]
  },
  {
   "cell_type": "code",
   "execution_count": 7,
   "metadata": {},
   "outputs": [
    {
     "name": "stdout",
     "output_type": "stream",
     "text": [
      "[[0.07]]\n",
      "[[0.02]]\n"
     ]
    }
   ],
   "source": [
    "# Verify optimization\n",
    "print(np.sqrt(e_target.T @ covariance_matrix @ e_target))\n",
    "print(np.sqrt((e_target - e_bm).T @ covariance_matrix @ (e_target- e_bm)))"
   ]
  },
  {
   "cell_type": "code",
   "execution_count": 8,
   "metadata": {},
   "outputs": [],
   "source": [
    "# Parameter uncertainty specification\n",
    "B = 1000  # Number of efficient frontiers\n",
    "N = 100  # Sample size for parameter estimation\n",
    "np.random.seed(0)  # To avoid numerical instability\n",
    "return_sim = np.random.multivariate_normal(means, covariance_matrix, (N, B))"
   ]
  },
  {
   "cell_type": "code",
   "execution_count": 9,
   "metadata": {},
   "outputs": [],
   "source": [
    "# Mean uncertainty\n",
    "e_b = np.full((I, B), np.nan)\n",
    "x_b = np.full((2 * I, B), np.nan)\n",
    "for b in range(B):\n",
    "    means_run = np.hstack((np.mean(return_sim[:, b, :], axis=0), np.zeros(I)))\n",
    "    e_b[:, b] = np.array(socp(\n",
    "        c=matrix(-scalar * means_run), Gl=matrix(G), hl=matrix(h), Gq=Gq2, hq=hq2, A=A, b=b_)['x'][0:I])[:, 0]\n",
    "    x_b[0:I, b] = means * e_b[:, b]\n",
    "    x_b[I:, b] = (covariance_matrix @ e_b[:, b]) / np.sqrt((e_b[:, b].T @ covariance_matrix @ e_b[:, b])) * e_b[:, b]\n",
    "    "
   ]
  },
  {
   "cell_type": "code",
   "execution_count": 10,
   "metadata": {},
   "outputs": [],
   "source": [
    "x_target = np.hstack((\n",
    "    means * e_target[:, 0],\n",
    "    (covariance_matrix @ e_target[:, 0]) / np.sqrt((e_target[:, 0].T @ covariance_matrix @ e_target[:, 0])) * e_target[:, 0]))\n",
    "diff_target = np.linalg.norm(x_target[:, np.newaxis] - x_b, axis=0)\n",
    "x_0 = np.hstack((\n",
    "    means * e_0,\n",
    "    (covariance_matrix @ e_0) / np.sqrt((e_0.T @ covariance_matrix @ e_0)) * e_0))\n",
    "diff_0 = np.linalg.norm(x_target - x_0, axis=0)"
   ]
  },
  {
   "cell_type": "code",
   "execution_count": 11,
   "metadata": {},
   "outputs": [
    {
     "data": {
      "image/png": "[encoded data removed]",
      "text/plain": [
       "<Figure size 640x480 with 1 Axes>"
      ]
     },
     "metadata": {},
     "output_type": "display_data"
    }
   ],
   "source": [
    "sns.histplot(diff_target, stat='proportion')\n",
    "plt.axvline(diff_0, color='red')\n",
    "plt.title('Resampled Portfolio Rebalancing')\n",
    "plt.legend(['Test statistic', 'Sampling distribution'])\n",
    "plt.show()"
   ]
  },
  {
   "cell_type": "code",
   "execution_count": 12,
   "metadata": {},
   "outputs": [
    {
     "name": "stdout",
     "output_type": "stream",
     "text": [
      "Rebalancing probability = 98.9%\n",
      "Rebalancing p-value = 1.1%\n"
     ]
    }
   ],
   "source": [
    "print(f'Rebalancing probability = {np.round(100 * np.sum((diff_target <= diff_0) / B), 2)}%')\n",
    "print(f'Rebalancing p-value = {np.round(100 * np.sum((diff_target > diff_0) / B), 2)}%')"
   ]
  },
  {
   "cell_type": "code",
   "execution_count": 13,
   "metadata": {},
   "outputs": [
    {
     "data": {
      "text/html": [
       "<div>\n",
       "<style scoped>\n",
       "    .dataframe tbody tr th:only-of-type {\n",
       "        vertical-align: middle;\n",
       "    }\n",
       "\n",
       "    .dataframe tbody tr th {\n",
       "        vertical-align: top;\n",
       "    }\n",
       "\n",
       "    .dataframe thead th {\n",
       "        text-align: right;\n",
       "    }\n",
       "</style>\n",
       "<table border=\"1\" class=\"dataframe\">\n",
       "  <thead>\n",
       "    <tr style=\"text-align: right;\">\n",
       "      <th></th>\n",
       "      <th>Target</th>\n",
       "      <th>Current</th>\n",
       "      <th>Benchmark</th>\n",
       "    </tr>\n",
       "  </thead>\n",
       "  <tbody>\n",
       "    <tr>\n",
       "      <th>Gov &amp; MBS</th>\n",
       "      <td>3.19</td>\n",
       "      <td>0.00</td>\n",
       "      <td>10.0</td>\n",
       "    </tr>\n",
       "    <tr>\n",
       "      <th>Corp IG</th>\n",
       "      <td>-0.00</td>\n",
       "      <td>0.00</td>\n",
       "      <td>10.0</td>\n",
       "    </tr>\n",
       "    <tr>\n",
       "      <th>Corp HY</th>\n",
       "      <td>0.52</td>\n",
       "      <td>0.00</td>\n",
       "      <td>10.0</td>\n",
       "    </tr>\n",
       "    <tr>\n",
       "      <th>EM Debt</th>\n",
       "      <td>25.00</td>\n",
       "      <td>18.39</td>\n",
       "      <td>10.0</td>\n",
       "    </tr>\n",
       "    <tr>\n",
       "      <th>DM Equity</th>\n",
       "      <td>3.25</td>\n",
       "      <td>0.00</td>\n",
       "      <td>10.0</td>\n",
       "    </tr>\n",
       "    <tr>\n",
       "      <th>EM Equity</th>\n",
       "      <td>-0.00</td>\n",
       "      <td>0.00</td>\n",
       "      <td>10.0</td>\n",
       "    </tr>\n",
       "    <tr>\n",
       "      <th>Private Equity</th>\n",
       "      <td>10.38</td>\n",
       "      <td>6.61</td>\n",
       "      <td>10.0</td>\n",
       "    </tr>\n",
       "    <tr>\n",
       "      <th>Infrastructure</th>\n",
       "      <td>16.01</td>\n",
       "      <td>25.00</td>\n",
       "      <td>10.0</td>\n",
       "    </tr>\n",
       "    <tr>\n",
       "      <th>Real Estate</th>\n",
       "      <td>16.66</td>\n",
       "      <td>25.00</td>\n",
       "      <td>10.0</td>\n",
       "    </tr>\n",
       "    <tr>\n",
       "      <th>Hedge Funds</th>\n",
       "      <td>25.00</td>\n",
       "      <td>25.00</td>\n",
       "      <td>10.0</td>\n",
       "    </tr>\n",
       "  </tbody>\n",
       "</table>\n",
       "</div>"
      ],
      "text/plain": [
       "                Target  Current  Benchmark\n",
       "Gov & MBS         3.19     0.00       10.0\n",
       "Corp IG          -0.00     0.00       10.0\n",
       "Corp HY           0.52     0.00       10.0\n",
       "EM Debt          25.00    18.39       10.0\n",
       "DM Equity         3.25     0.00       10.0\n",
       "EM Equity        -0.00     0.00       10.0\n",
       "Private Equity   10.38     6.61       10.0\n",
       "Infrastructure   16.01    25.00       10.0\n",
       "Real Estate      16.66    25.00       10.0\n",
       "Hedge Funds      25.00    25.00       10.0"
      ]
     },
     "execution_count": 13,
     "metadata": {},
     "output_type": "execute_result"
    }
   ],
   "source": [
    "df_results = pd.DataFrame(\n",
    "    np.round(100 * np.hstack((e_target, e_0[:, np.newaxis], e_bm)), 2),\n",
    "    index=instrument_names, columns=['Target', 'Current', 'Benchmark'])\n",
    "df_results"
   ]
  }
 ],
 "metadata": {
  "kernelspec": {
   "display_name": "pcrm-book",
   "language": "python",
   "name": "python3"
  },
  "language_info": {
   "codemirror_mode": {
    "name": "ipython",
    "version": 3
   },
   "file_extension": ".py",
   "mimetype": "text/x-python",
   "name": "python",
   "nbconvert_exporter": "python",
   "pygments_lexer": "ipython3",
   "version": "3.12.3"
  },
  "orig_nbformat": 4
 },
 "nbformat": 4,
 "nbformat_minor": 2
}
