{
 "cells": [
  {
   "cell_type": "markdown",
   "metadata": {},
   "source": [
    "# Code for Section 6.3.1 Validating Portfolio Optimization Solvers\n",
    "The code below illustrates how you can validate your portfolio optimizers with various objectives:\n",
    "\n",
    "1) target return\n",
    "2) target risk\n",
    "3) target risk and tracking error constraint\n",
    " \n",
    "For the same combination of risk and returns targets, these solve equivalent problems. Hence, if you have a solution for one of them, you can use it to validate the others."
   ]
  },
  {
   "cell_type": "code",
   "execution_count": 1,
   "metadata": {},
   "outputs": [],
   "source": [
    "import numpy as np\n",
    "import pandas as pd\n",
    "import fortitudo.tech as ft\n",
    "from scipy.linalg import cholesky\n",
    "from cvxopt import matrix\n",
    "from cvxopt.solvers import socp, options\n",
    "from copy import copy"
   ]
  },
  {
   "cell_type": "code",
   "execution_count": 2,
   "metadata": {},
   "outputs": [],
   "source": [
    "# Load multi-asset means and covariances\n",
    "names, means, cov = ft.load_parameters()\n",
    "I = len(names)"
   ]
  },
  {
   "cell_type": "code",
   "execution_count": 3,
   "metadata": {},
   "outputs": [],
   "source": [
    "# Specify portfolio constraints (long-only, 25% upper bounds)\n",
    "G = np.vstack((np.eye(I), -np.eye(I)))\n",
    "h = np.hstack((0.25 * np.ones(I), np.zeros(I)))\n",
    "return_target = 0.05"
   ]
  },
  {
   "cell_type": "code",
   "execution_count": 4,
   "metadata": {},
   "outputs": [],
   "source": [
    "# Compute the base case with an expected return target\n",
    "mv = ft.MeanVariance(means, cov, G, h)\n",
    "e_star = mv.efficient_portfolio(return_target)"
   ]
  },
  {
   "cell_type": "markdown",
   "metadata": {},
   "source": [
    "# Target risk optimization"
   ]
  },
  {
   "cell_type": "code",
   "execution_count": 5,
   "metadata": {},
   "outputs": [],
   "source": [
    "# Use the volatility of e_star as a risk target\n",
    "risk_target = np.sqrt(e_star.T @ cov @ e_star)[0, 0]\n",
    "A = matrix(np.ones((1, I)))\n",
    "b = matrix(np.array([1.]))\n",
    "\n",
    "Gq = [matrix(np.zeros((I + 1, I)))]\n",
    "hq = [matrix(np.zeros(I + 1))]\n",
    "options['show_progress'] = False\n",
    "scalar = 100\n",
    "hq[0][0] = risk_target * scalar\n",
    "L = -cholesky(scalar**2 * cov)\n",
    "Gq[0][1:, 0:] = L\n",
    "e_star_risk = np.array(socp(\n",
    "    c=matrix(-means * scalar), Gl=matrix(G), hl=matrix(h), Gq=Gq, hq=hq, A=A, b=b)['x'])"
   ]
  },
  {
   "cell_type": "code",
   "execution_count": 6,
   "metadata": {},
   "outputs": [
    {
     "name": "stdout",
     "output_type": "stream",
     "text": [
      "Max absolute exposure difference = 8.294811590370266e-08\n",
      "Portfolio volatility = 0.06691865058412809 (target = 0.06691865030306862)\n",
      "Expected return = 0.05000000024486122\n"
     ]
    }
   ],
   "source": [
    "# Validate the result\n",
    "print(f'Max absolute exposure difference = {np.max(np.abs(e_star_risk - e_star))}')\n",
    "print(f'Portfolio volatility = {np.sqrt(e_star_risk.T @ cov @ e_star_risk)[0, 0]} (target = {risk_target})')\n",
    "print(f'Expected return = {(means @ e_star_risk)[0]}')"
   ]
  },
  {
   "cell_type": "markdown",
   "metadata": {},
   "source": [
    "# Target risk and tracking error constraint"
   ]
  },
  {
   "cell_type": "code",
   "execution_count": 7,
   "metadata": {},
   "outputs": [],
   "source": [
    "# Compute target tracking error\n",
    "e_bm = np.ones((I, 1)) / I\n",
    "te_pf = e_star_risk - e_bm\n",
    "te_target = np.sqrt(te_pf.T @ cov @ te_pf)[0, 0]"
   ]
  },
  {
   "cell_type": "code",
   "execution_count": 8,
   "metadata": {},
   "outputs": [],
   "source": [
    "# Add benchmark relation and auxiliary variables\n",
    "benchmark_relation = np.hstack((np.eye(I), -np.eye(I)))\n",
    "A = matrix(np.vstack((np.hstack((np.ones(I), np.zeros(I))), benchmark_relation)))\n",
    "b = matrix(np.vstack(([[1.]], e_bm)))\n",
    "G = np.hstack((G, np.zeros((G.shape[0], I))))"
   ]
  },
  {
   "cell_type": "code",
   "execution_count": 9,
   "metadata": {},
   "outputs": [],
   "source": [
    "# Add second-order cone constraints\n",
    "Gq_base = matrix(np.zeros((I + 1, 2 * I)))\n",
    "Gq2 = [copy(Gq_base), copy(Gq_base)]\n",
    "Gq2[0][1:, 0:I] = L\n",
    "Gq2[1][1:, I:] = L\n",
    "hq2 = [matrix(np.zeros((I + 1))), matrix(np.zeros((I + 1)))]\n",
    "hq2[0][0] = risk_target * scalar\n",
    "hq2[1][0] = te_target * scalar"
   ]
  },
  {
   "cell_type": "code",
   "execution_count": 10,
   "metadata": {},
   "outputs": [],
   "source": [
    "# Extend the expected return vector and optimize\n",
    "means2 = np.hstack((means, np.zeros(I)))\n",
    "e_star_dual_risk = np.array(socp(\n",
    "    c=matrix(-means2 * scalar), Gl=matrix(G), hl=matrix(h), Gq=Gq2, hq=hq2, A=A, b=b)['x'][0:I])"
   ]
  },
  {
   "cell_type": "code",
   "execution_count": 11,
   "metadata": {},
   "outputs": [
    {
     "name": "stdout",
     "output_type": "stream",
     "text": [
      "Max absolute exposure difference = 1.4443682283538095e-07\n",
      "Portfolio volatility = 0.06691864978535854 (target = 0.06691865030306862)\n",
      "Tracking error volatility = 0.03180812083822808 (target = 0.031808128411388435)\n",
      "Expected return = 0.05000000180651483\n"
     ]
    }
   ],
   "source": [
    "# Validate the result\n",
    "te_pf_opt = e_star_dual_risk - e_bm\n",
    "print(f'Max absolute exposure difference = {np.max(np.abs(e_star_dual_risk - e_star_risk))}')\n",
    "print(f'Portfolio volatility = {np.sqrt(e_star_dual_risk.T @ cov @ e_star_dual_risk)[0, 0]} (target = {risk_target})')\n",
    "print(f'Tracking error volatility = {np.sqrt(te_pf_opt.T @ cov @ te_pf_opt)[0, 0]} (target = {te_target})')\n",
    "print(f'Expected return = {(means @ e_star_dual_risk)[0]}')"
   ]
  },
  {
   "cell_type": "code",
   "execution_count": 12,
   "metadata": {},
   "outputs": [
    {
     "data": {
      "text/html": [
       "<div>\n",
       "<style scoped>\n",
       "    .dataframe tbody tr th:only-of-type {\n",
       "        vertical-align: middle;\n",
       "    }\n",
       "\n",
       "    .dataframe tbody tr th {\n",
       "        vertical-align: top;\n",
       "    }\n",
       "\n",
       "    .dataframe thead th {\n",
       "        text-align: right;\n",
       "    }\n",
       "</style>\n",
       "<table border=\"1\" class=\"dataframe\">\n",
       "  <thead>\n",
       "    <tr style=\"text-align: right;\">\n",
       "      <th></th>\n",
       "      <th>Target return</th>\n",
       "      <th>Target risk</th>\n",
       "      <th>Target risk and tracking error</th>\n",
       "      <th>Benchmark</th>\n",
       "    </tr>\n",
       "  </thead>\n",
       "  <tbody>\n",
       "    <tr>\n",
       "      <th>Gov &amp; MBS</th>\n",
       "      <td>0.00</td>\n",
       "      <td>0.00</td>\n",
       "      <td>0.00</td>\n",
       "      <td>10.0</td>\n",
       "    </tr>\n",
       "    <tr>\n",
       "      <th>Corp IG</th>\n",
       "      <td>0.00</td>\n",
       "      <td>-0.00</td>\n",
       "      <td>-0.00</td>\n",
       "      <td>10.0</td>\n",
       "    </tr>\n",
       "    <tr>\n",
       "      <th>Corp HY</th>\n",
       "      <td>0.00</td>\n",
       "      <td>0.00</td>\n",
       "      <td>0.00</td>\n",
       "      <td>10.0</td>\n",
       "    </tr>\n",
       "    <tr>\n",
       "      <th>EM Debt</th>\n",
       "      <td>18.39</td>\n",
       "      <td>18.39</td>\n",
       "      <td>18.39</td>\n",
       "      <td>10.0</td>\n",
       "    </tr>\n",
       "    <tr>\n",
       "      <th>DM Equity</th>\n",
       "      <td>0.00</td>\n",
       "      <td>0.00</td>\n",
       "      <td>0.00</td>\n",
       "      <td>10.0</td>\n",
       "    </tr>\n",
       "    <tr>\n",
       "      <th>EM Equity</th>\n",
       "      <td>0.00</td>\n",
       "      <td>-0.00</td>\n",
       "      <td>-0.00</td>\n",
       "      <td>10.0</td>\n",
       "    </tr>\n",
       "    <tr>\n",
       "      <th>Private Equity</th>\n",
       "      <td>6.61</td>\n",
       "      <td>6.61</td>\n",
       "      <td>6.61</td>\n",
       "      <td>10.0</td>\n",
       "    </tr>\n",
       "    <tr>\n",
       "      <th>Infrastructure</th>\n",
       "      <td>25.00</td>\n",
       "      <td>25.00</td>\n",
       "      <td>25.00</td>\n",
       "      <td>10.0</td>\n",
       "    </tr>\n",
       "    <tr>\n",
       "      <th>Real Estate</th>\n",
       "      <td>25.00</td>\n",
       "      <td>25.00</td>\n",
       "      <td>25.00</td>\n",
       "      <td>10.0</td>\n",
       "    </tr>\n",
       "    <tr>\n",
       "      <th>Hedge Funds</th>\n",
       "      <td>25.00</td>\n",
       "      <td>25.00</td>\n",
       "      <td>25.00</td>\n",
       "      <td>10.0</td>\n",
       "    </tr>\n",
       "  </tbody>\n",
       "</table>\n",
       "</div>"
      ],
      "text/plain": [
       "                Target return  Target risk  Target risk and tracking error  \\\n",
       "Gov & MBS                0.00         0.00                            0.00   \n",
       "Corp IG                  0.00        -0.00                           -0.00   \n",
       "Corp HY                  0.00         0.00                            0.00   \n",
       "EM Debt                 18.39        18.39                           18.39   \n",
       "DM Equity                0.00         0.00                            0.00   \n",
       "EM Equity                0.00        -0.00                           -0.00   \n",
       "Private Equity           6.61         6.61                            6.61   \n",
       "Infrastructure          25.00        25.00                           25.00   \n",
       "Real Estate             25.00        25.00                           25.00   \n",
       "Hedge Funds             25.00        25.00                           25.00   \n",
       "\n",
       "                Benchmark  \n",
       "Gov & MBS            10.0  \n",
       "Corp IG              10.0  \n",
       "Corp HY              10.0  \n",
       "EM Debt              10.0  \n",
       "DM Equity            10.0  \n",
       "EM Equity            10.0  \n",
       "Private Equity       10.0  \n",
       "Infrastructure       10.0  \n",
       "Real Estate          10.0  \n",
       "Hedge Funds          10.0  "
      ]
     },
     "execution_count": 12,
     "metadata": {},
     "output_type": "execute_result"
    }
   ],
   "source": [
    "# Table 6.1 allocation overview\n",
    "results = np.hstack((e_star, e_star_risk, e_star_dual_risk, e_bm))\n",
    "pd.DataFrame(np.round(100 * results, 2),\n",
    "             index=names,\n",
    "             columns=['Target return', 'Target risk', 'Target risk and tracking error', 'Benchmark'])"
   ]
  }
 ],
 "metadata": {
  "kernelspec": {
   "display_name": "pcrm-book",
   "language": "python",
   "name": "python3"
  },
  "language_info": {
   "codemirror_mode": {
    "name": "ipython",
    "version": 3
   },
   "file_extension": ".py",
   "mimetype": "text/x-python",
   "name": "python",
   "nbconvert_exporter": "python",
   "pygments_lexer": "ipython3",
   "version": "3.12.3"
  },
  "orig_nbformat": 4
 },
 "nbformat": 4,
 "nbformat_minor": 2
}
